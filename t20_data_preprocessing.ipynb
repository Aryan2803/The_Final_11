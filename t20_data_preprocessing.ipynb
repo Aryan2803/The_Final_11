{
 "cells": [
  {
   "cell_type": "code",
   "execution_count": null,
   "id": "4de3844a",
   "metadata": {},
   "outputs": [],
   "source": [
    "import pandas as pd\n",
    "import json"
   ]
  },
  {
   "cell_type": "code",
   "execution_count": null,
   "id": "cae9c35a",
   "metadata": {},
   "outputs": [],
   "source": [
    "with open('t20_json_files/t20_wc_match_results.json') as f:\n",
    "    data = json.load(f)\n",
    "\n",
    "df_match = pd.DataFrame(data[0]['matchSummary'])\n",
    "df_match.head()"
   ]
  },
  {
   "cell_type": "code",
   "execution_count": null,
   "id": "691f36ec",
   "metadata": {
    "scrolled": true
   },
   "outputs": [],
   "source": [
    "df_match.shape"
   ]
  },
  {
   "cell_type": "code",
   "execution_count": null,
   "id": "1f2c4e9e",
   "metadata": {
    "scrolled": true
   },
   "outputs": [],
   "source": [
    "df_match.rename({'scorecard': 'match_id'}, axis = 1, inplace = True)\n",
    "df_match.head()"
   ]
  },
  {
   "cell_type": "code",
   "execution_count": null,
   "id": "fe3721af",
   "metadata": {},
   "outputs": [],
   "source": [
    "match_ids_dict = {}\n",
    "\n",
    "for index, row in df_match.iterrows():\n",
    "    key1 = row['team1'] + ' Vs ' + row['team2']\n",
    "    key2 = row['team2'] + ' Vs ' + row['team1']\n",
    "    match_ids_dict[key1] = row['match_id']\n",
    "    match_ids_dict[key2] = row['match_id']"
   ]
  },
  {
   "cell_type": "code",
   "execution_count": null,
   "id": "8916b21f",
   "metadata": {},
   "outputs": [],
   "source": [
    "df_match.to_csv('t20_csv_files/dim_match_summary.csv', index = False)"
   ]
  },
  {
   "cell_type": "code",
   "execution_count": null,
   "id": "5b815da6",
   "metadata": {},
   "outputs": [],
   "source": [
    "with open('t20_json_files/t20_wc_batting_summary.json') as f:\n",
    "    data = json.load(f)\n",
    "    all_records = []\n",
    "    for rec in data:\n",
    "        all_records.extend(rec['battingSummary'])\n",
    "  \n",
    "df_batting = pd.DataFrame(all_records)\n",
    "df_batting.head(11)"
   ]
  },
  {
   "cell_type": "code",
   "execution_count": null,
   "id": "ff91aa85",
   "metadata": {},
   "outputs": [],
   "source": [
    "df_batting['out/not_out'] = df_batting.dismissal.apply(lambda x: \"out\" if len(x)>0 else \"not_out\")\n",
    "df_batting.head(11)"
   ]
  },
  {
   "cell_type": "code",
   "execution_count": null,
   "id": "f406128b",
   "metadata": {
    "scrolled": false
   },
   "outputs": [],
   "source": [
    "df_batting['match_id'] = df_batting['match'].map(match_ids_dict)\n",
    "df_batting.head()"
   ]
  },
  {
   "cell_type": "code",
   "execution_count": null,
   "id": "f9e5fe21",
   "metadata": {},
   "outputs": [],
   "source": [
    "df_batting.drop(columns=[\"dismissal\"], inplace=True)\n",
    "df_batting.head(10)"
   ]
  },
  {
   "cell_type": "code",
   "execution_count": null,
   "id": "779bb2f4",
   "metadata": {
    "scrolled": true
   },
   "outputs": [],
   "source": [
    "df_batting['batsmanName'] = df_batting['batsmanName'].apply(lambda x: x.replace('â€', ''))\n",
    "df_batting['batsmanName'] = df_batting['batsmanName'].apply(lambda x: x.replace('\\xa0', ''))\n",
    "df_batting.head()"
   ]
  },
  {
   "cell_type": "code",
   "execution_count": null,
   "id": "22a2fb62",
   "metadata": {},
   "outputs": [],
   "source": [
    "df_batting.shape"
   ]
  },
  {
   "cell_type": "code",
   "execution_count": null,
   "id": "191d4f5e",
   "metadata": {},
   "outputs": [],
   "source": [
    "df_batting.to_csv('t20_csv_files/fact_bating_summary.csv', index = False)"
   ]
  },
  {
   "cell_type": "code",
   "execution_count": null,
   "id": "81ed6da6",
   "metadata": {},
   "outputs": [],
   "source": [
    "with open('t20_json_files/t20_wc_bowling_summary.json') as f:\n",
    "    data = json.load(f)\n",
    "    all_records = []\n",
    "    for rec in data:\n",
    "        all_records.extend(rec['bowlingSummary'])\n",
    "all_records[:2]"
   ]
  },
  {
   "cell_type": "code",
   "execution_count": null,
   "id": "adb9462f",
   "metadata": {},
   "outputs": [],
   "source": [
    "df_bowling = pd.DataFrame(all_records)\n",
    "print(df_bowling.shape)\n",
    "df_bowling.head()"
   ]
  },
  {
   "cell_type": "code",
   "execution_count": null,
   "id": "701f2c8c",
   "metadata": {},
   "outputs": [],
   "source": [
    "df_bowling['match_id'] = df_bowling['match'].map(match_ids_dict)\n",
    "df_bowling.head()"
   ]
  },
  {
   "cell_type": "code",
   "execution_count": null,
   "id": "a2efb73e",
   "metadata": {},
   "outputs": [],
   "source": [
    "df_bowling.to_csv('t20_csv_files/fact_bowling_summary.csv', index = False)"
   ]
  },
  {
   "cell_type": "code",
   "execution_count": null,
   "id": "1fd8e6bd",
   "metadata": {},
   "outputs": [],
   "source": [
    "with open('t20_json_files/t20_wc_player_info.json') as f:\n",
    "    data = json.load(f)"
   ]
  },
  {
   "cell_type": "code",
   "execution_count": null,
   "id": "8c0cc07c",
   "metadata": {
    "scrolled": true
   },
   "outputs": [],
   "source": [
    "df_players = pd.DataFrame(data)\n",
    "\n",
    "print(df_players.shape)\n",
    "df_players.head(10)"
   ]
  },
  {
   "cell_type": "code",
   "execution_count": null,
   "id": "3b9b11eb",
   "metadata": {},
   "outputs": [],
   "source": [
    "df_players['name'] = df_players['name'].apply(lambda x: x.replace('â€', ''))\n",
    "df_players['name'] = df_players['name'].apply(lambda x: x.replace('†', ''))\n",
    "df_players['name'] = df_players['name'].apply(lambda x: x.replace('\\xa0', ''))\n",
    "df_players.head(10)"
   ]
  },
  {
   "cell_type": "code",
   "execution_count": null,
   "id": "6be96f94",
   "metadata": {},
   "outputs": [],
   "source": [
    "df_players[df_players['team'] == 'India']"
   ]
  },
  {
   "cell_type": "code",
   "execution_count": null,
   "id": "b59548bf",
   "metadata": {},
   "outputs": [],
   "source": [
    "df_players.to_csv('t20_csv_files/dim_players_no_images.csv', index = False)"
   ]
  }
 ],
 "metadata": {
  "kernelspec": {
   "display_name": "Python 3",
   "language": "python",
   "name": "python3"
  },
  "language_info": {
   "codemirror_mode": {
    "name": "ipython",
    "version": 3
   },
   "file_extension": ".py",
   "mimetype": "text/x-python",
   "name": "python",
   "nbconvert_exporter": "python",
   "pygments_lexer": "ipython3",
   "version": "3.8.10"
  }
 },
 "nbformat": 4,
 "nbformat_minor": 5
}
